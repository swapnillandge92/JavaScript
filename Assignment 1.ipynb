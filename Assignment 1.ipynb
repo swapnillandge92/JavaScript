{
 "cells": [
  {
   "cell_type": "raw",
   "id": "facb25a1",
   "metadata": {},
   "source": [
    "# 1. Explain the use of JavaScript ( or What you can do using a JavaScript)"
   ]
  },
  {
   "cell_type": "markdown",
   "id": "16142954",
   "metadata": {},
   "source": [
    "JavaScript is a scripting language that is used to construct online and mobile apps, web servers, games, and more. JavaScript is an object-oriented programming language that is used to generate websites and applications. It was created with the intention of being used in a browser. Even today, the server-side version of JavaScript known as Node.js may be used to create online and mobile apps, real-time applications, online streaming applications, and videogames. Javascript frameworks, often known as inbuilt libraries, may be used to construct desktop and mobile programs. Developers may save a lot of time on monotonous programming jobs by using these code libraries, allowing them to focus on the production work of development."
   ]
  },
  {
   "cell_type": "raw",
   "id": "822bbb6b",
   "metadata": {},
   "source": [
    "# 2. What is the difference between client-side and server-side?"
   ]
  },
  {
   "cell_type": "raw",
   "id": "469d24b4",
   "metadata": {},
   "source": [
    "Client-Side JavaScript (CSJS) an extended version of JavaScript that enables the enhancement and manipulation of web pages and client browsers.\n",
    "Server-Side JavaScript (SSJS) an extended version of JavaScript that enables back-end access to databases, file systems, and servers.\n",
    "Client-Side JavaScript (CSJS) and Server-Side JavaScript (SSJS) are dependent on the core JavaScript and cannot work without it.\n",
    "Client-side JavaScript is made up of two parts, a fundamental language and predefined objects for performing JavaScript in a browser. JavaScript for the client is automatically included in the HTML pages. At runtime, the browser understands this script.\n",
    "Client-side JavaScript is similar to server-side JavaScript. It includes JavaScript that will execute on a server. Only after processing is the server-side JavaScript deployed"
   ]
  },
  {
   "cell_type": "raw",
   "id": "c98a9d15",
   "metadata": {},
   "source": [
    "# 3. What is Nodejs?"
   ]
  },
  {
   "cell_type": "raw",
   "id": "dd0798ef",
   "metadata": {},
   "source": [
    "Node.js is a platform built on Chrome's JavaScript runtime for easily building fast and scalable network applications. Node.js uses an event-driven, non-blocking I/O model that makes it lightweight and efficient, perfect for data-intensive real-time applications that run across distributed devices.\n",
    "Node.js is an open source, cross-platform runtime environment for developing server-side and networking applications. Node.js applications are written in JavaScript, and can be run within the Node.js runtime on OS X, Microsoft Windows, and Linux.\n",
    "Node.js also provides a rich library of various JavaScript modules which simplifies the development of web applications using Node.js to a great extent."
   ]
  },
  {
   "cell_type": "raw",
   "id": "88ac587f",
   "metadata": {},
   "source": [
    "# 4. Explain Scope in JavaScript"
   ]
  },
  {
   "cell_type": "raw",
   "id": "3ed24cdc",
   "metadata": {},
   "source": [
    "Scope in JS determines the accessibility of variables and functions at various parts of one’s code.\n",
    "In general terms, the scope will let us know at a given part of code, what are variables and functions we can or cannot access.\n",
    "There are three types of scopes in JS:\n",
    "1) Global Scope\n",
    "2) Local or Function Scope\n",
    "3) Block Scope\n",
    "\n",
    "    a) Global Scope: Variables or functions declared in the global namespace have global scope, which means all the variables and functions having global scope can be accessed from anywhere inside the code.\n",
    "\n",
    "    Example : \n",
    "    let globalVariable = \"Hello world\";\n",
    "\n",
    "    function sendMessage(){\n",
    "      return globalVariable; // can access globalVariable since it's written in global space\n",
    "    }\n",
    "    function sendMessage2(){\n",
    "      return sendMessage(); // Can access sendMessage function since it's written in global space\n",
    "    }\n",
    "    sendMessage2();\n",
    "\n",
    "    b) Function Scope: Any variables or functions declared inside a function have local/function scope, which means that all the variables and functions declared inside a function, can be accessed from within the function and not outside of it.\n",
    "    \n",
    "    Example:\n",
    "    function awesomeFunction(){\n",
    "      let a = 2;\n",
    "\n",
    "      let multiplyBy2 = function(){\n",
    "        console.log(a*2); // Can access variable \"a\" since a and multiplyBy2 both are written inside the same function\n",
    "      }\n",
    "    }\n",
    "    console.log(a); // Throws reference error since a is written in local scope and cannot be accessed outside\n",
    "\n",
    "    multiplyBy2(); // \n",
    "    \n",
    "    C) Block Scope: Block scope is related to the variables declared using let and const. Variables declared with var do not have block scope. Block scope tells us that any variable declared inside a block { }, can be accessed only inside that block and cannot be accessed outside of it.\n",
    "    \n",
    "    Example :\n",
    "    {\n",
    "      let x = 45;\n",
    "    }\n",
    "\n",
    "    console.log(x); // Gives reference error since x cannot be accessed outside of the block\n",
    "\n",
    "    for(let i=0; i<2; i++){\n",
    "      // do something\n",
    "    }\n",
    "\n",
    "    console.log(i);\n",
    "\n"
   ]
  },
  {
   "cell_type": "raw",
   "id": "463d6de0",
   "metadata": {},
   "source": [
    "# 5. JavaScript is asynchronous or synchronous."
   ]
  },
  {
   "cell_type": "raw",
   "id": "9dce5c45",
   "metadata": {},
   "source": [
    "Javascript is Synchronous, It is a synchronous, single-threaded language. Because it has a single thread that’s why it can only execute one command at a time and the other commands need to wait for executing before the running command executes. And the term synchronous means one at a time. So after these conversions, we get to know that javascript only executes one command or a single block of code at a time that means it is blocking.\n",
    "\n",
    "But Also,in Javacript we can manipulate the behaviour of javascript by using asynchronous operations like promises, callbacks etc. It can also make AJAX calls, which means if we make an ajax call then the user can still work or get his other commands done while the request is waiting for a response. That means we can manipulate js behaviour in an asynchronous way\n",
    "\n",
    "Javascript is synchronous and single-threaded language with various callback mechanisms.\n"
   ]
  },
  {
   "cell_type": "raw",
   "id": "b1e354db",
   "metadata": {},
   "source": [
    "6. JavaScript is Single-threaded or Multi-threaded."
   ]
  },
  {
   "cell_type": "raw",
   "id": "34cee5e6",
   "metadata": {},
   "source": [
    "JavaScript is a single-threaded language, it has only one call stack that is used to execute the program. The call stack is the same as the stack data structure that you might read in Data structures.stacks are FILO that is First In Last Out. Similarly, within the call stack, whenever a line of code gets inside the call stack it gets executed and move out of the stack. In this way, JavaScript is a single-thread language because of only one call stack.\n",
    "JavaScript is a single-threaded language because while running code on a single thread, it can be really easy to implement as we don’t have to deal with the complicated scenarios that arise in the multi-threaded environment like deadlock."
   ]
  },
  {
   "cell_type": "raw",
   "id": "9be9e6cf",
   "metadata": {},
   "source": [
    "7. Explain DOM in your own word."
   ]
  },
  {
   "cell_type": "raw",
   "id": "aa833647",
   "metadata": {},
   "source": [
    "DOM stands for Document Object Model.  DOM is a programming interface for HTML and XML documents.\n",
    "When the browser tries to render an HTML document, it creates an object based on the HTML document called DOM. Using this DOM, we can manipulate or change various elements inside the HTML document."
   ]
  }
 ],
 "metadata": {
  "kernelspec": {
   "display_name": "Python 3 (ipykernel)",
   "language": "python",
   "name": "python3"
  },
  "language_info": {
   "codemirror_mode": {
    "name": "ipython",
    "version": 3
   },
   "file_extension": ".py",
   "mimetype": "text/x-python",
   "name": "python",
   "nbconvert_exporter": "python",
   "pygments_lexer": "ipython3",
   "version": "3.9.7"
  }
 },
 "nbformat": 4,
 "nbformat_minor": 5
}
